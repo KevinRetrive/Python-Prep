{
 "cells": [
  {
   "attachments": {},
   "cell_type": "markdown",
   "metadata": {},
   "source": [
    "## Manejo de errores"
   ]
  },
  {
   "attachments": {},
   "cell_type": "markdown",
   "metadata": {},
   "source": [
    "1) Con la clase creada en el módulo 8, tener en cuenta diferentes casos en que el código pudiera arrojar error. Por ejemplo, en la creación del objeto recibimos una lista de números enteros pero ¿qué pasa si se envía otro tipo de dato?"
   ]
  },
  {
   "cell_type": "code",
   "execution_count": 70,
   "metadata": {},
   "outputs": [
    {
     "name": "stdout",
     "output_type": "stream",
     "text": [
      "['c:/Users/Kevin/OneDrive/Escritorio/Python-Prep/M08_clasesyOOP/Archivo_punto_8.py', 'c:/Users/Kevin/OneDrive/Escritorio/Python-Prep/M08_clasesyOOP/Archivo_punto_8.py', 'c:/Users/Kevin/OneDrive/Escritorio/Python-Prep/M08_clasesyOOP/Archivo_punto_8.py', 'c:/Users/Kevin/OneDrive/Escritorio/Python-Prep/M08_clasesyOOP/Archivo_punto_8.py', 'c:/Users/Kevin/OneDrive/Escritorio/Python-Prep/M08_clasesyOOP/Archivo_punto_8.py', 'c:/Users/Kevin/OneDrive/Escritorio/Python-Prep/M08_clasesyOOP/Archivo_punto_8.py', 'c:/Users/Kevin/OneDrive/Escritorio/Python-Prep/M08_clasesyOOP/Archivo_punto_8.py', 'c:/Users/Kevin/OneDrive/Escritorio/Python-Prep/M08_clasesyOOP/Archivo_punto_8.py', 'c:/Users/Kevin/OneDrive/Escritorio/Python-Prep/M08_clasesyOOP/Archivo_punto_8.py', 'c:/Users/Kevin/OneDrive/Escritorio/Python-Prep/M08_clasesyOOP/Archivo_punto_8.py', 'c:/Users/Kevin/OneDrive/Escritorio/Python-Prep/M08_clasesyOOP/Archivo_punto_8.py', 'c:\\\\Users\\\\Kevin\\\\OneDrive\\\\Escritorio\\\\Python-Prep\\\\M09_errorhandling', 'c:\\\\Users\\\\Kevin\\\\AppData\\\\Local\\\\Programs\\\\Python\\\\Python311\\\\python311.zip', 'c:\\\\Users\\\\Kevin\\\\AppData\\\\Local\\\\Programs\\\\Python\\\\Python311\\\\DLLs', 'c:\\\\Users\\\\Kevin\\\\AppData\\\\Local\\\\Programs\\\\Python\\\\Python311\\\\Lib', 'c:\\\\Users\\\\Kevin\\\\AppData\\\\Local\\\\Programs\\\\Python\\\\Python311', '', 'C:\\\\Users\\\\Kevin\\\\AppData\\\\Roaming\\\\Python\\\\Python311\\\\site-packages', 'C:\\\\Users\\\\Kevin\\\\AppData\\\\Roaming\\\\Python\\\\Python311\\\\site-packages\\\\win32', 'C:\\\\Users\\\\Kevin\\\\AppData\\\\Roaming\\\\Python\\\\Python311\\\\site-packages\\\\win32\\\\lib', 'C:\\\\Users\\\\Kevin\\\\AppData\\\\Roaming\\\\Python\\\\Python311\\\\site-packages\\\\Pythonwin', 'c:\\\\Users\\\\Kevin\\\\AppData\\\\Local\\\\Programs\\\\Python\\\\Python311\\\\Lib\\\\site-packages', 'c:\\\\Users\\\\Kevin\\\\OneDrive\\\\Escritorio\\\\Python-Prep\\\\M08_clasesyOOP', 'c:\\\\\\\\Users\\\\\\\\Kevin\\\\\\\\OneDrive\\\\\\\\Escritorio\\\\\\\\Python-Prep\\\\\\\\M08_clasesyOOP', 'c:\\\\\\\\Users\\\\\\\\Kevin\\\\\\\\OneDrive\\\\\\\\Escritorio\\\\\\\\Python-Prep\\\\\\\\M08_clasesyOOP', 'c:\\\\\\\\Users\\\\\\\\Kevin\\\\\\\\OneDrive\\\\\\\\Escritorio\\\\\\\\Python-Prep\\\\\\\\M08_clasesyOOP', 'c:\\\\\\\\Users\\\\\\\\Kevin\\\\\\\\OneDrive\\\\\\\\Escritorio\\\\\\\\Python-Prep\\\\\\\\M08_clasesyOOP']\n"
     ]
    }
   ],
   "source": [
    "import sys\n",
    "print(sys.path)\n",
    "sys.path.insert(0,'c:/Users/Kevin/OneDrive/Escritorio/Python-Prep/M08_clasesyOOP/Archivo_punto_8.py')"
   ]
  },
  {
   "cell_type": "code",
   "execution_count": 71,
   "metadata": {},
   "outputs": [],
   "source": [
    "import Archivo_punto_8 as A"
   ]
  },
  {
   "cell_type": "code",
   "execution_count": 61,
   "metadata": {},
   "outputs": [
    {
     "ename": "ValueError",
     "evalue": "Se ingresaron tipo/s de dato/s inválido/s, se esperaba una lista de números enteros",
     "output_type": "error",
     "traceback": [
      "\u001b[1;31m---------------------------------------------------------------------------\u001b[0m",
      "\u001b[1;31mValueError\u001b[0m                                Traceback (most recent call last)",
      "\u001b[1;32mc:\\Users\\Kevin\\OneDrive\\Escritorio\\Python-Prep\\M09_errorhandling\\Prep_Course_Homework_09.ipynb Cell 5\u001b[0m line \u001b[0;36m1\n\u001b[1;32m----> <a href='vscode-notebook-cell:/c%3A/Users/Kevin/OneDrive/Escritorio/Python-Prep/M09_errorhandling/Prep_Course_Homework_09.ipynb#W4sZmlsZQ%3D%3D?line=0'>1</a>\u001b[0m F_Error\u001b[39m=\u001b[39mA\u001b[39m.\u001b[39;49mFunciones_2(\u001b[39m\"\u001b[39;49m\u001b[39mH\u001b[39;49m\u001b[39m\"\u001b[39;49m)\n",
      "File \u001b[1;32mc:\\Users\\Kevin\\OneDrive\\Escritorio\\Python-Prep\\M08_clasesyOOP\\Archivo_punto_8.py:5\u001b[0m, in \u001b[0;36mFunciones_2.__init__\u001b[1;34m(self, lista_final)\u001b[0m\n\u001b[0;32m      3\u001b[0m \u001b[39mif\u001b[39;00m \u001b[39mtype\u001b[39m(lista_final)\u001b[39m!=\u001b[39m\u001b[39mlist\u001b[39m:\n\u001b[0;32m      4\u001b[0m     \u001b[39mself\u001b[39m\u001b[39m.\u001b[39mlista_final\u001b[39m=\u001b[39m[]\n\u001b[1;32m----> 5\u001b[0m     \u001b[39mraise\u001b[39;00m \u001b[39mValueError\u001b[39;00m(\u001b[39m\"\u001b[39m\u001b[39mSe ingresaron tipo/s de dato/s inválido/s, se esperaba una lista de números enteros\u001b[39m\u001b[39m\"\u001b[39m)\n\u001b[0;32m      6\u001b[0m \u001b[39melse\u001b[39;00m:\n\u001b[0;32m      7\u001b[0m     \u001b[39mself\u001b[39m\u001b[39m.\u001b[39mlista_final\u001b[39m=\u001b[39mlista_final\n",
      "\u001b[1;31mValueError\u001b[0m: Se ingresaron tipo/s de dato/s inválido/s, se esperaba una lista de números enteros"
     ]
    }
   ],
   "source": [
    "F_Error=A.Funciones_2(\"H\")"
   ]
  },
  {
   "cell_type": "code",
   "execution_count": 62,
   "metadata": {},
   "outputs": [],
   "source": [
    "# F_Error2=Fun([1.5,\"Hola\",3]) También podría tener el error de que se cargue una lista, pero con elementos distintos a n° enteros.\n",
    "F4=A.Funciones_2([1,2,3,4,5,6,1,2,3,4,5,6,7,8,9,11])"
   ]
  },
  {
   "attachments": {},
   "cell_type": "markdown",
   "metadata": {},
   "source": [
    "2) En la función que hace la conversión de grados, validar que los parámetros enviados sean los esperados, de no serlo, informar cuáles son los valores esperados."
   ]
  },
  {
   "cell_type": "code",
   "execution_count": 76,
   "metadata": {},
   "outputs": [
    {
     "data": {
      "text/plain": [
       "<module 'Archivo_punto_8' from 'c:\\\\Users\\\\Kevin\\\\OneDrive\\\\Escritorio\\\\Python-Prep\\\\M08_clasesyOOP\\\\Archivo_punto_8.py'>"
      ]
     },
     "execution_count": 76,
     "metadata": {},
     "output_type": "execute_result"
    }
   ],
   "source": [
    "import importlib\n",
    "importlib.reload(A)\n",
    "# la función reload() de importlib recargar el módulo herramientas (previamente importado y asignado a un alias h)."
   ]
  },
  {
   "cell_type": "code",
   "execution_count": 77,
   "metadata": {},
   "outputs": [],
   "source": [
    "F4=A.Funciones_2([1,2,3,4,5,6,1,2,3,4,5,6,7,8,9,11])"
   ]
  },
  {
   "cell_type": "code",
   "execution_count": 65,
   "metadata": {},
   "outputs": [
    {
     "name": "stdout",
     "output_type": "stream",
     "text": [
      "Los parámetros permitidos son: ['Celsius', 'Farenheit', 'Kelvin']\n"
     ]
    },
    {
     "data": {
      "text/plain": [
       "[]"
      ]
     },
     "execution_count": 65,
     "metadata": {},
     "output_type": "execute_result"
    }
   ],
   "source": [
    "F4.convertidor_temp(1,2)"
   ]
  },
  {
   "cell_type": "code",
   "execution_count": 78,
   "metadata": {},
   "outputs": [
    {
     "name": "stdout",
     "output_type": "stream",
     "text": [
      "1 grados Kelvin, son  -272.15 grados Celsius\n",
      "2 grados Kelvin, son  -271.15 grados Celsius\n",
      "3 grados Kelvin, son  -270.15 grados Celsius\n",
      "4 grados Kelvin, son  -269.15 grados Celsius\n",
      "5 grados Kelvin, son  -268.15 grados Celsius\n",
      "6 grados Kelvin, son  -267.15 grados Celsius\n",
      "1 grados Kelvin, son  -272.15 grados Celsius\n",
      "2 grados Kelvin, son  -271.15 grados Celsius\n",
      "3 grados Kelvin, son  -270.15 grados Celsius\n",
      "4 grados Kelvin, son  -269.15 grados Celsius\n",
      "5 grados Kelvin, son  -268.15 grados Celsius\n",
      "6 grados Kelvin, son  -267.15 grados Celsius\n",
      "7 grados Kelvin, son  -266.15 grados Celsius\n",
      "8 grados Kelvin, son  -265.15 grados Celsius\n",
      "9 grados Kelvin, son  -264.15 grados Celsius\n",
      "11 grados Kelvin, son  -262.15 grados Celsius\n"
     ]
    },
    {
     "data": {
      "text/plain": [
       "[-272.15,\n",
       " -271.15,\n",
       " -270.15,\n",
       " -269.15,\n",
       " -268.15,\n",
       " -267.15,\n",
       " -272.15,\n",
       " -271.15,\n",
       " -270.15,\n",
       " -269.15,\n",
       " -268.15,\n",
       " -267.15,\n",
       " -266.15,\n",
       " -265.15,\n",
       " -264.15,\n",
       " -262.15]"
      ]
     },
     "execution_count": 78,
     "metadata": {},
     "output_type": "execute_result"
    }
   ],
   "source": [
    "F4.convertidor_temp(\"Kelvin\",\"Celsius\")"
   ]
  },
  {
   "attachments": {},
   "cell_type": "markdown",
   "metadata": {},
   "source": [
    "3) Importar el modulo \"unittest\" y crear los siguientes casos de pruebas sobre la clase utilizada en el punto 2<br>\n",
    "Creacion del objeto incorrecta<br>\n",
    "Creacion correcta del objeto<br>\n",
    "Metodo valor_modal()<br>\n",
    "\n",
    "Se puede usar \"raise ValueError()\" en la creación de la clase para verificar el error. Investigar sobre esta funcionalidad."
   ]
  },
  {
   "cell_type": "code",
   "execution_count": 79,
   "metadata": {},
   "outputs": [],
   "source": [
    "import unittest"
   ]
  },
  {
   "cell_type": "code",
   "execution_count": 82,
   "metadata": {},
   "outputs": [],
   "source": [
    "class CajaNegraTest(unittest.TestCase):\n",
    "    \"\"\"\n",
    "    Clase de prueba para la clase Herramientas del módulo 'A'.\n",
    "    Esta clase hereda de unittest.TestCase, lo que la convierte en una clase de prueba.\n",
    "    \"\"\"\n",
    "\n",
    "    def test_crear_objeto1(self):\n",
    "        \"\"\"\n",
    "        Método de prueba para verificar el comportamiento al crear un objeto Herramientas con un parámetro inválido.\n",
    "        \"\"\"\n",
    "        param = 'hola'\n",
    "        self.assertRaises(ValueError, A.Funciones_2, param)\n",
    "        # self.failUnlessRaises(ValueError, A.Funciones_2, param)\n",
    "        # Se utiliza assertRaises para verificar que al crear un objeto Funciones_2 con un parámetro inválido\n",
    "        # se genere una excepción de tipo ValueError. Se espera que el código en el bloque de prueba genere esta excepción.\n",
    "        # Si no se genera la excepción, el caso de prueba falla.\n",
    "        \n",
    "        # Ahora repito lo mismo pero con uno válido, a mano para practicar\n",
    "    def test_crear_objeto2(self):\n",
    "        param = [1,2,3,4,5,6,7]\n",
    "        F5=A.Funciones_2(param)\n",
    "        self.assertEqual(F5.lista_final,param)\n",
    "        # Se utiliza assertEqual para verificar que la lista almacenada en el objeto F5 de tipo Funciones_2\n",
    "        # sea igual a la lista param proporcionada como parámetro al crear el objeto.\n",
    "        # Si las listas no son iguales, el caso de prueba falla.\n",
    "\n",
    "    def test_repetidos(self):\n",
    "        \"\"\"\n",
    "        Método de prueba para verificar el comportamiento del método repetidos de la clase Herramientas.\n",
    "        \"\"\"\n",
    "        lis = [1, 2, 1, 3] # Creo lista\n",
    "        F6 = A.Funciones_2(lis) # Instancio un objeto de la clase con la lista que cree\n",
    "        valor, veces = F6.repetidos(False) # Desenpaqueto los resultados del método repetidos\n",
    "        valor = [valor] # Armo una lista con los resultados que se almacenó\n",
    "        valor.append(veces)\n",
    "        resultado = [1, 2] # Escribo el resultado que debería darme que yo conozco\n",
    "        self.assertEqual(valor, resultado) # Aplico assertEqual(almacenado,cargado) y que me devuelva si es correcto o no\n",
    "        \n",
    "        # Se utiliza assertEqual para verificar que el valor repetido y la cantidad de repeticiones devueltos\n",
    "        # por el método repetidos de la clase Funciones_2 sean iguales a los valores esperados almacenados en resultado.\n",
    "        # Si los valores no coinciden, el caso de prueba falla.\n",
    "        \n",
    "        "
   ]
  },
  {
   "cell_type": "code",
   "execution_count": 84,
   "metadata": {},
   "outputs": [
    {
     "name": "stderr",
     "output_type": "stream",
     "text": [
      "test_crear_objeto1 (__main__.CajaNegraTest.test_crear_objeto1)\n",
      "Método de prueba para verificar el comportamiento al crear un objeto Herramientas con un parámetro inválido. ... ok\n",
      "test_crear_objeto2 (__main__.CajaNegraTest.test_crear_objeto2) ... ok\n",
      "test_repetidos (__main__.CajaNegraTest.test_repetidos)\n",
      "Método de prueba para verificar el comportamiento del método repetidos de la clase Herramientas. ... ERROR\n",
      "\n",
      "======================================================================\n",
      "ERROR: test_repetidos (__main__.CajaNegraTest.test_repetidos)\n",
      "Método de prueba para verificar el comportamiento del método repetidos de la clase Herramientas.\n",
      "----------------------------------------------------------------------\n",
      "Traceback (most recent call last):\n",
      "  File \"C:\\Users\\Kevin\\AppData\\Local\\Temp\\ipykernel_3092\\3945309172.py\", line 33, in test_repetidos\n",
      "    repe, veces = F6.repetidos(False) # Desenpaqueto los resultados del método repetidos\n",
      "                  ^^^^^^^^^^^^^^^^^^^\n",
      "TypeError: Funciones_2.repetidos() takes 1 positional argument but 2 were given\n",
      "\n",
      "----------------------------------------------------------------------\n",
      "Ran 3 tests in 0.018s\n",
      "\n",
      "FAILED (errors=1)\n"
     ]
    },
    {
     "data": {
      "text/plain": [
       "<unittest.main.TestProgram at 0x281c65b8ad0>"
      ]
     },
     "execution_count": 84,
     "metadata": {},
     "output_type": "execute_result"
    }
   ],
   "source": [
    "unittest.main(argv=[\"\"],verbosity=2,exit=False) \n",
    "# Me da 1 error no se por qué"
   ]
  },
  {
   "attachments": {},
   "cell_type": "markdown",
   "metadata": {},
   "source": [
    "4) Probar una creación incorrecta y visualizar la salida del \"raise\""
   ]
  },
  {
   "cell_type": "code",
   "execution_count": 85,
   "metadata": {},
   "outputs": [
    {
     "ename": "ValueError",
     "evalue": "Se ingresaron tipo/s de dato/s inválido/s, se esperaba una lista de números enteros",
     "output_type": "error",
     "traceback": [
      "\u001b[1;31m---------------------------------------------------------------------------\u001b[0m",
      "\u001b[1;31mValueError\u001b[0m                                Traceback (most recent call last)",
      "\u001b[1;32mc:\\Users\\Kevin\\OneDrive\\Escritorio\\Python-Prep\\M09_errorhandling\\Prep_Course_Homework_09.ipynb Cell 17\u001b[0m line \u001b[0;36m1\n\u001b[1;32m----> <a href='vscode-notebook-cell:/c%3A/Users/Kevin/OneDrive/Escritorio/Python-Prep/M09_errorhandling/Prep_Course_Homework_09.ipynb#X14sZmlsZQ%3D%3D?line=0'>1</a>\u001b[0m F7\u001b[39m=\u001b[39mA\u001b[39m.\u001b[39;49mFunciones_2(\u001b[39m\"\u001b[39;49m\u001b[39mHello\u001b[39;49m\u001b[39m\"\u001b[39;49m)\n",
      "File \u001b[1;32mc:\\Users\\Kevin\\OneDrive\\Escritorio\\Python-Prep\\M08_clasesyOOP\\Archivo_punto_8.py:5\u001b[0m, in \u001b[0;36mFunciones_2.__init__\u001b[1;34m(self, lista_final)\u001b[0m\n\u001b[0;32m      3\u001b[0m \u001b[39mif\u001b[39;00m \u001b[39mtype\u001b[39m(lista_final)\u001b[39m!=\u001b[39m\u001b[39mlist\u001b[39m:\n\u001b[0;32m      4\u001b[0m     \u001b[39mself\u001b[39m\u001b[39m.\u001b[39mlista_final\u001b[39m=\u001b[39m[]\n\u001b[1;32m----> 5\u001b[0m     \u001b[39mraise\u001b[39;00m \u001b[39mValueError\u001b[39;00m(\u001b[39m\"\u001b[39m\u001b[39mSe ingresaron tipo/s de dato/s inválido/s, se esperaba una lista de números enteros\u001b[39m\u001b[39m\"\u001b[39m)\n\u001b[0;32m      6\u001b[0m \u001b[39melse\u001b[39;00m:\n\u001b[0;32m      7\u001b[0m     \u001b[39mself\u001b[39m\u001b[39m.\u001b[39mlista_final\u001b[39m=\u001b[39mlista_final\n",
      "\u001b[1;31mValueError\u001b[0m: Se ingresaron tipo/s de dato/s inválido/s, se esperaba una lista de números enteros"
     ]
    }
   ],
   "source": [
    "F7=A.Funciones_2(\"Hello\")"
   ]
  },
  {
   "attachments": {},
   "cell_type": "markdown",
   "metadata": {},
   "source": [
    "6) Agregar casos de pruebas para el método verifica_primos() realizando el cambio en la clase, para que devuelva una lista de True o False en función de que el elemento en la posisicón sea o no primo"
   ]
  },
  {
   "cell_type": "code",
   "execution_count": null,
   "metadata": {},
   "outputs": [],
   "source": []
  },
  {
   "attachments": {},
   "cell_type": "markdown",
   "metadata": {},
   "source": [
    "7) Agregar casos de pruebas para el método conversion_grados()"
   ]
  },
  {
   "cell_type": "code",
   "execution_count": null,
   "metadata": {},
   "outputs": [],
   "source": []
  },
  {
   "attachments": {},
   "cell_type": "markdown",
   "metadata": {},
   "source": [
    "8) Agregar casos de pruebas para el método factorial()"
   ]
  },
  {
   "cell_type": "code",
   "execution_count": null,
   "metadata": {},
   "outputs": [],
   "source": []
  }
 ],
 "metadata": {
  "interpreter": {
   "hash": "c85384e4cb51c8b72350f3a8712cc8351fdc3955e32a27f9b60c6242ab125f01"
  },
  "kernelspec": {
   "display_name": "Python 3 (ipykernel)",
   "language": "python",
   "name": "python3"
  },
  "language_info": {
   "codemirror_mode": {
    "name": "ipython",
    "version": 3
   },
   "file_extension": ".py",
   "mimetype": "text/x-python",
   "name": "python",
   "nbconvert_exporter": "python",
   "pygments_lexer": "ipython3",
   "version": "3.11.5"
  }
 },
 "nbformat": 4,
 "nbformat_minor": 4
}
