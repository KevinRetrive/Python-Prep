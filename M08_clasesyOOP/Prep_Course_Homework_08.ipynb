{
 "cells": [
  {
   "attachments": {},
   "cell_type": "markdown",
   "metadata": {},
   "source": [
    "## Clases y Programación Orientada a Objetos"
   ]
  },
  {
   "attachments": {},
   "cell_type": "markdown",
   "metadata": {},
   "source": [
    "1) Crear la clase vehículo que contenga los atributos:<br>\n",
    "Color<br>\n",
    "Si es moto, auto, camioneta ó camión<br>\n",
    "Cilindrada del motor"
   ]
  },
  {
   "cell_type": "code",
   "execution_count": null,
   "metadata": {},
   "outputs": [],
   "source": [
    "class Vehiculo():\n",
    "    def __init__(self,color,tipo,cilindrada):\n",
    "        self.color=color\n",
    "        self.tipo=tipo\n",
    "        self.cilindrada=cilindrada"
   ]
  },
  {
   "attachments": {},
   "cell_type": "markdown",
   "metadata": {},
   "source": [
    "2) A la clase Vehiculo creada en el punto 1, agregar los siguientes métodos:<br>\n",
    "Acelerar<br>\n",
    "Frenar<br>\n",
    "Doblar<br>"
   ]
  },
  {
   "cell_type": "code",
   "execution_count": 22,
   "metadata": {},
   "outputs": [],
   "source": [
    "class Vehiculo():\n",
    "    def __init__(self,color,tipo,cilindrada):\n",
    "        self.color=color\n",
    "        self.tipo=tipo\n",
    "        self.cilindrada=cilindrada\n",
    "        self.vel=0\n",
    "        self.direc=0\n",
    "    \n",
    "    def Acelerar(self,vel):\n",
    "        self.vel+=vel\n",
    "        print(\"Acelerando a\", self.vel,\"km/h más\")\n",
    "    \n",
    "    def Frenar(self,vel):\n",
    "        self.vel-=vel\n",
    "        print(\"Frenando a\", self.vel,\"km/h menos\")\n",
    "    \n",
    "    def Doblar(self,direc):\n",
    "        self.direc+=direc\n",
    "        print(\"Doblando a\", self.direc,\"grados\")"
   ]
  },
  {
   "attachments": {},
   "cell_type": "markdown",
   "metadata": {},
   "source": [
    "3) Instanciar 3 objetos de la clase vehículo y ejecutar sus métodos, probar luego el resultado"
   ]
  },
  {
   "cell_type": "code",
   "execution_count": 23,
   "metadata": {},
   "outputs": [],
   "source": [
    "Auto1=Vehiculo(\"Rojo\",\"Auto\",\"8 cilindros\")\n",
    "Moto1=Vehiculo(\"Verde\",\"Moto\",\"4 cilindros\")\n",
    "Camioneta1=Vehiculo(\"Negra\",\"Camioneta\",\"16 cilindros\")"
   ]
  },
  {
   "cell_type": "code",
   "execution_count": 24,
   "metadata": {},
   "outputs": [
    {
     "name": "stdout",
     "output_type": "stream",
     "text": [
      "Acelerando a 30 km/h más\n",
      "Frenando a -20 km/h menos\n",
      "Doblando a 40 grados\n"
     ]
    }
   ],
   "source": [
    "Auto1.Acelerar(30)\n",
    "Moto1.Frenar(20)\n",
    "Camioneta1.Doblar(40)"
   ]
  },
  {
   "attachments": {},
   "cell_type": "markdown",
   "metadata": {},
   "source": [
    "4) Agregar a la clase Vehiculo, un método que muestre su estado, es decir, a que velocidad se encuentra y su dirección. Y otro método que muestre color, tipo y cilindrada"
   ]
  },
  {
   "cell_type": "code",
   "execution_count": 27,
   "metadata": {},
   "outputs": [],
   "source": [
    "class Vehiculo():\n",
    "    def __init__(self,color,tipo,cilindrada):\n",
    "        self.color=color\n",
    "        self.tipo=tipo\n",
    "        self.cilindrada=cilindrada\n",
    "        self.vel=0\n",
    "        self.direc=0\n",
    "    \n",
    "    def Acelerar(self,vel):\n",
    "        self.vel+=vel\n",
    "        print(\"Acelerando a\", self.vel,\"km/h más\")\n",
    "    \n",
    "    def Frenar(self,vel):\n",
    "        self.vel-=vel\n",
    "        print(\"Frenando a\", self.vel,\"km/h menos\")\n",
    "    \n",
    "    def Doblar(self,direc):\n",
    "        self.direc+=direc\n",
    "        print(\"Doblando a\", self.direc,\"grados\")\n",
    "    \n",
    "    # Hago todo en un sólo método    \n",
    "    def Estado(self):\n",
    "        print(f\"El {self.tipo} {self.color} de {self.cilindrada} cilindros, se encuentra a una velocidad de {self.vel} km/h y una dirección de {self.direc} grados\")"
   ]
  },
  {
   "cell_type": "code",
   "execution_count": 29,
   "metadata": {},
   "outputs": [
    {
     "name": "stdout",
     "output_type": "stream",
     "text": [
      "Acelerando a 32 km/h más\n",
      "Doblando a 45 grados\n",
      "El Auto Violeta de 8 cilindros cilindros, se encuentra a una velocidad de 32 km/h y una dirección de 45 grados\n"
     ]
    }
   ],
   "source": [
    "Auto2=Vehiculo(\"Violeta\",\"Auto\",\"8 cilindros\")\n",
    "Auto2.Acelerar(32)\n",
    "Auto2.Doblar(45)\n",
    "Auto2.Estado()"
   ]
  },
  {
   "attachments": {},
   "cell_type": "markdown",
   "metadata": {},
   "source": [
    "5) Crear una clase que permita utilizar las funciones creadas en la práctica del módulo 7<br>\n",
    "Verificar Primo<br>\n",
    "Valor modal<br>\n",
    "Conversión grados<br>\n",
    "Factorial<br>"
   ]
  },
  {
   "cell_type": "code",
   "execution_count": 45,
   "metadata": {},
   "outputs": [],
   "source": [
    "class Funciones():\n",
    "    def __init__(self) -> None:\n",
    "        pass\n",
    "        \n",
    "    def facto(self,num):# Agregar self a todos y ver que más preciso\n",
    "        if (num <0 or type(num)==float):\n",
    "            return \"Error. Se debe ingresar un n° entero y positivo\"\n",
    "        if num>1: \n",
    "            num=num*self.facto(num-1)\n",
    "            return num\n",
    "        if num == 0:\n",
    "            num=1\n",
    "        return num\n",
    "        \n",
    "    def convertidor_temp(self,temperatura,origen,destino):\n",
    "        if (origen == \"Celsius\" and destino == \"Kelvin\"):\n",
    "            temperatura_new=temperatura+273.15\n",
    "        elif (origen == \"Celsius\" and destino == \"Farenheit\"):\n",
    "            temperatura_new=temperatura*9/5+32\n",
    "        elif (origen == \"Kelvin\" and destino == \"Celsius\"):\n",
    "            temperatura_new=temperatura-273.15\n",
    "        elif (origen == \"Kelvin\" and destino == \"Farenheit\"):\n",
    "            temperatura_new=temperatura*9/5-459.67\n",
    "        elif (origen == \"Farenheit\" and destino == \"Kelvin\"):\n",
    "            temperatura_new=(temperatura+459.67)*5/9\n",
    "        elif (origen == \"Farenheit\" and destino == \"Celsius\"):\n",
    "            temperatura_new=(temperatura-32)*5/9\n",
    "        elif origen == destino:\n",
    "            temperatura_new=temperatura\n",
    "            print(f\"La unidad de origen es igual a la de destino:\")\n",
    "        return round(temperatura_new,2)\n",
    "    \n",
    "    def repetidos(self,lista2):\n",
    "        lista_sinrepe = []\n",
    "        lista_repe = []\n",
    "        for elem in lista2:\n",
    "            if  elem in lista_sinrepe:\n",
    "                i=lista_sinrepe.index(elem)\n",
    "                lista_repe[i]+=1\n",
    "            else:\n",
    "                lista_sinrepe.append(elem)\n",
    "                lista_repe.append(1) #Inicio el contador de repeticiones para ese elemento en 1\n",
    "        val = lista_sinrepe[0]  # Se asume que el primer elemento de la lista de únicos es la moda inicialmente\n",
    "        max = lista_repe[0]  # Se asume que el primer contador de repeticiones es el máximo inicialmente\n",
    "        for i,elemento in enumerate(lista_sinrepe):  # Iteración sobre cada elemento único y su índice\n",
    "            if lista_repe[i] > max:  # Verificación si el contador de repeticiones es mayor al máximo actual\n",
    "                val = lista_sinrepe[i]  # Se actualiza la moda con el nuevo elemento con más repeticiones\n",
    "                max = lista_repe[i]  # Se actualiza el máximo con el nuevo contador de repeticiones mayor\n",
    "        return val, max  # Se devuelve la moda y el máximo de repeticiones como una tupla\n",
    "    \n",
    "    def es_primo(self,num):\n",
    "        prim = True\n",
    "        for i in range(2,num):\n",
    "            if num%i==0: # O sea, que divido el nro por todos los n° anteriores para chequear que sea primo\n",
    "                prim=False\n",
    "                break\n",
    "        return prim\n",
    "    \n",
    "    def extrae_primos(self,lista_num):\n",
    "        lista_primos=[]\n",
    "        for elem in lista_num:\n",
    "            if self.es_primo(int(elem)):\n",
    "                lista_primos.append(elem)\n",
    "        return f\"El conjunto de n° primos es: {lista_primos}\""
   ]
  },
  {
   "attachments": {},
   "cell_type": "markdown",
   "metadata": {},
   "source": [
    "6) Probar las funciones incorporadas en la clase del punto 5"
   ]
  },
  {
   "cell_type": "code",
   "execution_count": 48,
   "metadata": {},
   "outputs": [
    {
     "name": "stdout",
     "output_type": "stream",
     "text": [
      "<class '__main__.Funciones'>\n"
     ]
    }
   ],
   "source": [
    "F1=Funciones()\n",
    "print(type(F1))"
   ]
  },
  {
   "cell_type": "code",
   "execution_count": 47,
   "metadata": {},
   "outputs": [
    {
     "data": {
      "text/plain": [
       "5040"
      ]
     },
     "execution_count": 47,
     "metadata": {},
     "output_type": "execute_result"
    }
   ],
   "source": [
    "F1.facto(7)"
   ]
  },
  {
   "cell_type": "code",
   "execution_count": 49,
   "metadata": {},
   "outputs": [
    {
     "name": "stdout",
     "output_type": "stream",
     "text": [
      "El n° más repetido es 5, y se repite 4 veces\n"
     ]
    }
   ],
   "source": [
    "lista4=[1,2,3,4,2,1,3,5,7,3,5,43,5,35,34,24,7,5,35,]\n",
    "valor,repe=F1.repetidos(lista4) # Desempaqueto\n",
    "print(f\"El n° más repetido es {valor}, y se repite {repe} veces\")"
   ]
  },
  {
   "cell_type": "code",
   "execution_count": 50,
   "metadata": {},
   "outputs": [
    {
     "data": {
      "text/plain": [
       "298.15"
      ]
     },
     "execution_count": 50,
     "metadata": {},
     "output_type": "execute_result"
    }
   ],
   "source": [
    "x=25 # grados celsius\n",
    "F1.convertidor_temp(x,\"Celsius\",\"Kelvin\")"
   ]
  },
  {
   "cell_type": "code",
   "execution_count": 55,
   "metadata": {},
   "outputs": [
    {
     "data": {
      "text/plain": [
       "True"
      ]
     },
     "execution_count": 55,
     "metadata": {},
     "output_type": "execute_result"
    }
   ],
   "source": [
    "#F1.es_primo(27)\n",
    "F1.es_primo(13)"
   ]
  },
  {
   "cell_type": "code",
   "execution_count": 57,
   "metadata": {},
   "outputs": [
    {
     "data": {
      "text/plain": [
       "'El conjunto de n° primos es: [1, 3, 5, 7, 13, 23, 17, 23]'"
      ]
     },
     "execution_count": 57,
     "metadata": {},
     "output_type": "execute_result"
    }
   ],
   "source": [
    "F1.extrae_primos([1,3,4,5,8,7,9,13,23,17,50,23])"
   ]
  },
  {
   "attachments": {},
   "cell_type": "markdown",
   "metadata": {},
   "source": [
    "7) Es necesario que la clase creada en el punto 5 contenga una lista, sobre la cual se apliquen las funciones incorporadas"
   ]
  },
  {
   "cell_type": "code",
   "execution_count": null,
   "metadata": {},
   "outputs": [],
   "source": []
  },
  {
   "attachments": {},
   "cell_type": "markdown",
   "metadata": {},
   "source": [
    "8) Crear un archivo .py aparte y ubicar allí la clase generada en el punto anterior. Luego realizar la importación del módulo y probar alguna de sus funciones"
   ]
  },
  {
   "cell_type": "code",
   "execution_count": null,
   "metadata": {},
   "outputs": [],
   "source": []
  }
 ],
 "metadata": {
  "interpreter": {
   "hash": "c85384e4cb51c8b72350f3a8712cc8351fdc3955e32a27f9b60c6242ab125f01"
  },
  "kernelspec": {
   "display_name": "Python 3 (ipykernel)",
   "language": "python",
   "name": "python3"
  },
  "language_info": {
   "codemirror_mode": {
    "name": "ipython",
    "version": 3
   },
   "file_extension": ".py",
   "mimetype": "text/x-python",
   "name": "python",
   "nbconvert_exporter": "python",
   "pygments_lexer": "ipython3",
   "version": "3.11.5"
  }
 },
 "nbformat": 4,
 "nbformat_minor": 4
}
