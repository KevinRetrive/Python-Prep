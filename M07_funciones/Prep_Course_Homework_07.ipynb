{
 "cells": [
  {
   "attachments": {},
   "cell_type": "markdown",
   "metadata": {},
   "source": [
    "## Funciones"
   ]
  },
  {
   "attachments": {},
   "cell_type": "markdown",
   "metadata": {},
   "source": [
    "1) Crear una función que reciba un número como parámetro y devuelva True si es primo y False si no lo es"
   ]
  },
  {
   "cell_type": "code",
   "execution_count": 47,
   "metadata": {},
   "outputs": [],
   "source": [
    "def es_primo(num):\n",
    "    prim = True\n",
    "    for i in range(2,num):\n",
    "        if num%i==0: # O sea, que divido el nro por todos los n° anteriores para chequear que sea primo\n",
    "            prim=False\n",
    "            break\n",
    "    return prim\n",
    "\n"
   ]
  },
  {
   "attachments": {},
   "cell_type": "markdown",
   "metadata": {},
   "source": [
    "2) Utilizando la función del punto 1, realizar otra función que reciba de parámetro una lista de números y devuelva sólo aquellos que son primos en otra lista"
   ]
  },
  {
   "cell_type": "code",
   "execution_count": 48,
   "metadata": {},
   "outputs": [],
   "source": [
    "def extrae_primos(lista_num):\n",
    "    lista_primos=[]\n",
    "    for elem in lista_num:\n",
    "        if es_primo(int(elem)):\n",
    "            lista_primos.append(elem)\n",
    "    return f\"El conjunto de n° primos es: {lista_primos}\"\n"
   ]
  },
  {
   "cell_type": "code",
   "execution_count": 50,
   "metadata": {},
   "outputs": [
    {
     "data": {
      "text/plain": [
       "'El conjunto de n° primos es: [1, 2, 3, 5, 7, 11, 13, 17, 19]'"
      ]
     },
     "execution_count": 50,
     "metadata": {},
     "output_type": "execute_result"
    }
   ],
   "source": [
    "lista1=[1,2,3,5,6,7,8,9,10,11,12,13,14,15,16,17,18,19,20]\n",
    "primos= extrae_primos(lista1)\n",
    "primos"
   ]
  },
  {
   "attachments": {},
   "cell_type": "markdown",
   "metadata": {},
   "source": [
    "3) Crear una función que al recibir una lista de números, devuelva el que más se repite y cuántas veces lo hace. Si hay más de un \"más repetido\", que devuelva cualquiera"
   ]
  },
  {
   "cell_type": "code",
   "execution_count": 5,
   "metadata": {},
   "outputs": [],
   "source": [
    "def repetidos(lista2):\n",
    "    lista_sinrepe = []\n",
    "    lista_repe = []\n",
    "    for elem in lista2:\n",
    "        if  elem in lista_sinrepe:\n",
    "            i=lista_sinrepe.index(elem)\n",
    "            lista_repe[i]+=1\n",
    "        else:\n",
    "            lista_sinrepe.append(elem)\n",
    "            lista_repe.append(1) #Inicio el contador de repeticiones para ese elemento en 1\n",
    "    val = lista_sinrepe[0]  # Se asume que el primer elemento de la lista de únicos es la moda inicialmente\n",
    "    max = lista_repe[0]  # Se asume que el primer contador de repeticiones es el máximo inicialmente\n",
    "    for i, elemento in enumerate(lista_sinrepe):  # Iteración sobre cada elemento único y su índice\n",
    "        if lista_repe[i] > max:  # Verificación si el contador de repeticiones es mayor al máximo actual\n",
    "            val = lista_sinrepe[i]  # Se actualiza la moda con el nuevo elemento con más repeticiones\n",
    "            max = lista_repe[i]  # Se actualiza el máximo con el nuevo contador de repeticiones mayor\n",
    "    return val, max  # Se devuelve la moda y el máximo de repeticiones como una tupla"
   ]
  },
  {
   "cell_type": "code",
   "execution_count": 6,
   "metadata": {},
   "outputs": [
    {
     "data": {
      "text/plain": [
       "(7, 6)"
      ]
     },
     "execution_count": 6,
     "metadata": {},
     "output_type": "execute_result"
    }
   ],
   "source": [
    "lista2=[1,7,3,2,3,4,4,4,5,6,7,7,7,7,7,4,8,9,1]\n",
    "repetidos(lista2)"
   ]
  },
  {
   "attachments": {},
   "cell_type": "markdown",
   "metadata": {},
   "source": [
    "4) Crear una función que convierta entre grados Celsius, Farenheit y Kelvin<br>\n",
    "Fórmula 1\t: (°C × 9/5) + 32 = °F<br>\n",
    "Fórmula 2\t: °C + 273.15 = °K<br>\n",
    "Debe recibir 3 parámetros: el valor, la medida de orígen y la medida de destino\n"
   ]
  },
  {
   "cell_type": "code",
   "execution_count": 23,
   "metadata": {},
   "outputs": [],
   "source": [
    "def convertidor_temp(temperatura,origen,destino):\n",
    "    if (origen == \"Celsius\" and destino == \"Kelvin\"):\n",
    "        temperatura_new=temperatura+273.15\n",
    "    elif (origen == \"Celsius\" and destino == \"Farenheit\"):\n",
    "        temperatura_new=temperatura*9/5+32\n",
    "    elif (origen == \"Kelvin\" and destino == \"Celsius\"):\n",
    "        temperatura_new=temperatura-273.15\n",
    "    elif (origen == \"Kelvin\" and destino == \"Farenheit\"):\n",
    "        temperatura_new=temperatura*9/5-459.67\n",
    "    elif (origen == \"Farenheit\" and destino == \"Kelvin\"):\n",
    "        temperatura_new=(temperatura+459.67)*5/9\n",
    "    elif (origen == \"Farenheit\" and destino == \"Celsius\"):\n",
    "        temperatura_new=(temperatura-32)*5/9\n",
    "    elif origen == destino:\n",
    "        temperatura_new=temperatura\n",
    "        print(f\"La unidad de origen es igual a la de destino:\")\n",
    "    return round(temperatura_new,2)\n"
   ]
  },
  {
   "cell_type": "code",
   "execution_count": 24,
   "metadata": {},
   "outputs": [
    {
     "name": "stdout",
     "output_type": "stream",
     "text": [
      "507.15\n",
      "223.33\n",
      "141.53\n",
      "La unidad de origen es igual a la de destino:\n",
      "334\n"
     ]
    }
   ],
   "source": [
    "print(convertidor_temp(234,\"Celsius\",\"Kelvin\"))\n",
    "print(convertidor_temp(434,\"Farenheit\",\"Celsius\"))\n",
    "print(convertidor_temp(334,\"Kelvin\",\"Farenheit\"))\n",
    "print(convertidor_temp(334,\"Kelvin\",\"Kelvin\"))"
   ]
  },
  {
   "attachments": {},
   "cell_type": "markdown",
   "metadata": {},
   "source": [
    "5) Iterando una lista con los tres valores posibles de temperatura que recibe la función del punto 5, hacer un print para cada combinación de los mismos:"
   ]
  },
  {
   "cell_type": "code",
   "execution_count": 28,
   "metadata": {},
   "outputs": [
    {
     "name": "stdout",
     "output_type": "stream",
     "text": [
      "La unidad de origen es igual a la de destino:\n",
      "100 grados Celsius, son 100 grados Celsius\n",
      "100 grados Celsius, son 373.15 grados Kelvin\n",
      "100 grados Celsius, son 212.0 grados Farenheit\n",
      "100 grados Kelvin, son -173.15 grados Celsius\n",
      "La unidad de origen es igual a la de destino:\n",
      "100 grados Kelvin, son 100 grados Kelvin\n",
      "100 grados Kelvin, son -279.67 grados Farenheit\n",
      "100 grados Farenheit, son 37.78 grados Celsius\n",
      "100 grados Farenheit, son 310.93 grados Kelvin\n",
      "La unidad de origen es igual a la de destino:\n",
      "100 grados Farenheit, son 100 grados Farenheit\n"
     ]
    }
   ],
   "source": [
    "unidad = [\"Celsius\",\"Kelvin\",\"Farenheit\"]\n",
    "\n",
    "for i in range(0,3): # Bucle 1 para origen\n",
    "    for j in range(0,3): # Bucle 2 para destinos\n",
    "        print(f\"100 grados {unidad[i]}, son {convertidor_temp(100,unidad[i],unidad[j])} grados {unidad[j]}\")"
   ]
  },
  {
   "attachments": {},
   "cell_type": "markdown",
   "metadata": {},
   "source": [
    "6) Armar una función que devuelva el factorial de un número. Tener en cuenta que el usuario puede equivocarse y enviar de parámetro un número no entero o negativo"
   ]
  },
  {
   "cell_type": "code",
   "execution_count": 5,
   "metadata": {},
   "outputs": [],
   "source": [
    "def factorial(num):\n",
    "    \n",
    "    if (num <0 or type(num)==float):\n",
    "        return \"Error. Se debe ingresar un n° entero y positivo\"\n",
    "        \n",
    "    if num>1: \n",
    "        num=num*factorial(num-1)\n",
    "        return num\n",
    "\n",
    "    if num == 0:\n",
    "        num=1\n",
    "    return num"
   ]
  },
  {
   "cell_type": "code",
   "execution_count": 6,
   "metadata": {},
   "outputs": [
    {
     "data": {
      "text/plain": [
       "'Error. Se debe ingresar un n° entero y positivo'"
      ]
     },
     "execution_count": 6,
     "metadata": {},
     "output_type": "execute_result"
    }
   ],
   "source": [
    "factorial(7.4)"
   ]
  }
 ],
 "metadata": {
  "interpreter": {
   "hash": "c85384e4cb51c8b72350f3a8712cc8351fdc3955e32a27f9b60c6242ab125f01"
  },
  "kernelspec": {
   "display_name": "Python 3 (ipykernel)",
   "language": "python",
   "name": "python3"
  },
  "language_info": {
   "codemirror_mode": {
    "name": "ipython",
    "version": 3
   },
   "file_extension": ".py",
   "mimetype": "text/x-python",
   "name": "python",
   "nbconvert_exporter": "python",
   "pygments_lexer": "ipython3",
   "version": "3.11.5"
  }
 },
 "nbformat": 4,
 "nbformat_minor": 4
}
